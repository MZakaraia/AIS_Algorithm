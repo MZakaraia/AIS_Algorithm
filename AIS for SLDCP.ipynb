{
 "cells": [
  {
   "cell_type": "code",
   "execution_count": null,
   "metadata": {},
   "outputs": [],
   "source": [
    "import numpy as np\n",
    "import matplotlib.pyplot as plt"
   ]
  },
  {
   "cell_type": "code",
   "execution_count": null,
   "metadata": {},
   "outputs": [],
   "source": [
    "# Initialization\n",
    "# Generate random solutions to cover diversity solutions in the soluiton space\n",
    "# For example the antibodies in the immune system\n",
    "LB , UB = -10, 10\n",
    "dim = 2\n",
    "popSize = 10\n",
    "population = np.random.uniform(LB, UB, (popSize, dim))\n"
   ]
  },
  {
   "cell_type": "code",
   "execution_count": null,
   "metadata": {},
   "outputs": [],
   "source": [
    "def sphere(x):\n",
    "    return np.sum(x**2)"
   ]
  },
  {
   "cell_type": "code",
   "execution_count": null,
   "metadata": {},
   "outputs": [],
   "source": [
    "# Affinity Maturation\n",
    "Evalution = np.array([sphere(i) for i in population])\n",
    "BestEval = np.min(Evalution)\n",
    "BestSol = population[np.argmin(Evalution)]"
   ]
  },
  {
   "cell_type": "code",
   "execution_count": null,
   "metadata": {},
   "outputs": [],
   "source": [
    "# Clonal selection algorithm\n",
    "MaxItr = 200\n",
    "cloneNum = 100\n",
    "LB , UB = -50, 50\n",
    "dim = 100\n",
    "popSize = 50\n",
    "# Generate a population of T-cells (Solutions)\n",
    "population = np.random.uniform(LB, UB, (popSize, dim))\n",
    "# Matching procedure (Evaluation)\n",
    "Evalution = np.array([sphere(i) for i in population])\n",
    "# Keep an elitism that saves the best T-cell (best solution) \n",
    "BestEval = np.min(Evalution)\n",
    "BestSol = population[np.argmin(Evalution)]\n",
    "# T-cells migration process from thymus and bone marrow\n",
    "for Itr in range(MaxItr):\n",
    "    for i in range(popSize):\n",
    "        # The cloning process\n",
    "        for _ in range(cloneNum):\n",
    "            # Affinity maturation\n",
    "            population[i] = population[i] + np.random.uniform() *(BestSol - population[i])\n",
    "            Evalution[i] = sphere(population[i])\n",
    "            if Evalution[i]<=BestEval:\n",
    "                BestEval = Evalution[i]\n",
    "                BestSol = population[i]\n",
    "    population = np.random.uniform(LB, UB, (popSize, dim))\n"
   ]
  },
  {
   "cell_type": "code",
   "execution_count": null,
   "metadata": {},
   "outputs": [],
   "source": [
    "BestEval, BestSol\n"
   ]
  },
  {
   "cell_type": "code",
   "execution_count": null,
   "metadata": {},
   "outputs": [],
   "source": [
    "from HeuristicApproach_Stochastic import *"
   ]
  },
  {
   "cell_type": "code",
   "execution_count": null,
   "metadata": {},
   "outputs": [],
   "source": [
    "# GenerateProblems(NumberOfProblems = 10, MinTransCost = 30, MaxTransCost = 80, MinFixedCost = 70, MaxFixedCost = 120\\\n",
    "#                      , NumberOFDistCenter = 10, NumberOfPlants = 5, MinDemand = 20,  MaxDemand = 50, MinCapacity = 50\\\n",
    "#                         , MaxCapacity = 100)\n",
    "GenerateProblems(NumberOFDistCenter=10, NumberOfPlants= 20)"
   ]
  },
  {
   "cell_type": "code",
   "execution_count": null,
   "metadata": {},
   "outputs": [],
   "source": [
    "Capacities, Demands, FixedCosts, TransPortationCosts = ReadProblem('ProblemStochastic 10X20_10')"
   ]
  },
  {
   "cell_type": "code",
   "execution_count": null,
   "metadata": {},
   "outputs": [],
   "source": [
    "sol = solStucture(Demands, Capacities)"
   ]
  },
  {
   "cell_type": "code",
   "execution_count": null,
   "metadata": {},
   "outputs": [],
   "source": [
    "sol.Demands['Expected Demand'].sum()"
   ]
  },
  {
   "cell_type": "code",
   "execution_count": null,
   "metadata": {},
   "outputs": [],
   "source": [
    "sol.Capacities.sum()"
   ]
  },
  {
   "cell_type": "code",
   "execution_count": null,
   "metadata": {},
   "outputs": [],
   "source": [
    "sol.GenerateSolution()"
   ]
  },
  {
   "cell_type": "code",
   "execution_count": null,
   "metadata": {},
   "outputs": [],
   "source": [
    "sol.Evaluate(TransPortationCosts, FixedCosts)"
   ]
  },
  {
   "cell_type": "code",
   "execution_count": null,
   "metadata": {},
   "outputs": [],
   "source": [
    "sol.solution"
   ]
  },
  {
   "cell_type": "code",
   "execution_count": null,
   "metadata": {},
   "outputs": [],
   "source": [
    "sol.DistCenterArray, sol.PlantArray"
   ]
  },
  {
   "cell_type": "code",
   "execution_count": null,
   "metadata": {},
   "outputs": [],
   "source": [
    "import copy\n",
    "# Clonal selection algorithm\n",
    "MaxItr = 50\n",
    "cloneNum = 10\n",
    "popSize = 10\n",
    "# Read problem\n",
    "Capacities, Demands, FixedCosts, TransPortationCosts = ReadProblem('ProblemStochastic 10X20_10')\n",
    "# Generate a population of T-cells (Solutions)\n",
    "population = [solStucture(Demands, Capacities) for _ in range(popSize)]\n",
    "# Matching procedure (Evaluation)\n",
    "Evalution = np.array([i.Evaluate(TransPortationCosts, FixedCosts) for i in population])\n",
    "# Keep an elitism that saves the best T-cell (best solution) \n",
    "BestEval = np.min(Evalution)\n",
    "BestSol = population[np.argmin(Evalution)]\n",
    "# T-cells migration process from thymus and bone marrow\n",
    "for Itr in range(MaxItr):\n",
    "    for i in range(popSize):\n",
    "        # The cloning process\n",
    "        for _ in range(cloneNum):\n",
    "            # Affinity maturation\n",
    "            # population[i] = population[i] + np.random.uniform() *(BestSol - population[i])\n",
    "            population[i].DistCenterArray = population[i].DistCenterArray + np.random.uniform() * \\\n",
    "            (BestSol.DistCenterArray - population[i].DistCenterArray)\n",
    "            population[i].PlantArray = population[i].PlantArray + np.random.uniform() * \\\n",
    "            (BestSol.PlantArray - population[i].PlantArray)\n",
    "            Evalution[i] = population[i].Evaluate(TransPortationCosts, FixedCosts)\n",
    "            if Evalution[i]<=BestEval:\n",
    "                BestEval = Evalution[i]\n",
    "                BestSol = copy.deepcopy(population[i])\n",
    "    population = [solStucture(Demands, Capacities) for _ in range(popSize)]\n"
   ]
  },
  {
   "cell_type": "code",
   "execution_count": null,
   "metadata": {},
   "outputs": [],
   "source": [
    "BestEval"
   ]
  },
  {
   "cell_type": "code",
   "execution_count": 2,
   "metadata": {},
   "outputs": [],
   "source": [
    "from AIS_for_SLDCP import *"
   ]
  },
  {
   "cell_type": "code",
   "execution_count": null,
   "metadata": {},
   "outputs": [],
   "source": [
    "Eval, Sol = AISforFLDCP(MaxItr = 50, cloneNum = 10, popSize = 20,ProblemName='ProblemStochastic 10X20_10')\n",
    "Eval"
   ]
  },
  {
   "cell_type": "code",
   "execution_count": 3,
   "metadata": {},
   "outputs": [],
   "source": [
    "import numpy as np\n",
    "import pandas as pd\n",
    "from pyDOE2 import lhs"
   ]
  },
  {
   "cell_type": "code",
   "execution_count": 9,
   "metadata": {},
   "outputs": [],
   "source": [
    "def normalizeCriterion(Criterion):\n",
    "    return (ScaledSmaples[Criterion] - ScaledSmaples[Criterion].min())/(ScaledSmaples[Criterion].max() - ScaledSmaples[Criterion].min())"
   ]
  },
  {
   "cell_type": "code",
   "execution_count": 5,
   "metadata": {},
   "outputs": [],
   "source": [
    "param_ranges = {\n",
    "    \"MaxItr\": (5, 50),  # Maximum iterations\n",
    "    \"NP\": (5, 15),        # Population size\n",
    "    \"CN\": (5, 10)         # Number of cloned solutions    \n",
    "}\n",
    "# Step 2: Generate Latin Hypercube Samples\n",
    "num_samples = 30  # Number of experiments to perform\n",
    "lhs_samples = lhs(len(param_ranges), samples=num_samples)\n",
    "ScaledSmaples = pd.DataFrame(lhs_samples, columns=param_ranges.keys())\n",
    "ScaledSmaples['MaxItr'] = np.int32(param_ranges['MaxItr'][0] + ScaledSmaples['MaxItr'] *(param_ranges['MaxItr'][1] - param_ranges['MaxItr'][0]))\n",
    "ScaledSmaples['NP'] = np.int32(param_ranges['NP'][0] + ScaledSmaples['NP'] \\\n",
    "    *(param_ranges['NP'][1] - param_ranges['NP'][0]))\n",
    "ScaledSmaples['CN'] = np.int32(param_ranges['CN'][0] + ScaledSmaples['CN'] \\\n",
    "    *(param_ranges['CN'][1] - param_ranges['CN'][0]))"
   ]
  },
  {
   "cell_type": "code",
   "execution_count": 6,
   "metadata": {},
   "outputs": [
    {
     "name": "stdout",
     "output_type": "stream",
     "text": [
      "0\n",
      "1\n",
      "2\n",
      "3\n",
      "4\n",
      "5\n",
      "6\n",
      "7\n",
      "8\n",
      "9\n",
      "10\n",
      "11\n",
      "12\n",
      "13\n",
      "14\n",
      "15\n",
      "16\n",
      "17\n",
      "18\n",
      "19\n",
      "20\n",
      "21\n",
      "22\n",
      "23\n",
      "24\n",
      "25\n",
      "26\n",
      "27\n",
      "28\n",
      "29\n"
     ]
    }
   ],
   "source": [
    "# ScaledSmaples.head()\n",
    "ProbName = 'ProblemStochastic 5X10_1'\n",
    "# Eval, Sol = AISforFLDCP(MaxItr = 50, cloneNum = 10, popSize = 20,ProblemName = ProbName)\n",
    "ScaledSmaples['Mean'] = None\n",
    "ScaledSmaples['RSD'] = None\n",
    "for i in ScaledSmaples.index:\n",
    "    MaxItr = ScaledSmaples.iloc[i,0]\n",
    "    cloneNum = ScaledSmaples.iloc[i,1]\n",
    "    popSize = ScaledSmaples.iloc[i,2]\n",
    "    Results = np.array([AISforFLDCP(MaxItr, cloneNum, popSize,ProbName)[1].Eval for _ in range(10)])\n",
    "    print(i)\n",
    "    ResultsMean = Results.mean()\n",
    "    ResultsStd = Results.std()\n",
    "    ScaledSmaples.loc[i, 'Mean'] = ResultsMean\n",
    "    ScaledSmaples.loc[i, 'RSD'] = ResultsMean/ResultsStd"
   ]
  },
  {
   "cell_type": "code",
   "execution_count": 10,
   "metadata": {},
   "outputs": [
    {
     "data": {
      "text/html": [
       "<div>\n",
       "<style scoped>\n",
       "    .dataframe tbody tr th:only-of-type {\n",
       "        vertical-align: middle;\n",
       "    }\n",
       "\n",
       "    .dataframe tbody tr th {\n",
       "        vertical-align: top;\n",
       "    }\n",
       "\n",
       "    .dataframe thead th {\n",
       "        text-align: right;\n",
       "    }\n",
       "</style>\n",
       "<table border=\"1\" class=\"dataframe\">\n",
       "  <thead>\n",
       "    <tr style=\"text-align: right;\">\n",
       "      <th></th>\n",
       "      <th>MaxItr</th>\n",
       "      <th>NP</th>\n",
       "      <th>CN</th>\n",
       "      <th>Mean</th>\n",
       "      <th>RSD</th>\n",
       "      <th>Response</th>\n",
       "    </tr>\n",
       "  </thead>\n",
       "  <tbody>\n",
       "    <tr>\n",
       "      <th>0</th>\n",
       "      <td>29</td>\n",
       "      <td>5</td>\n",
       "      <td>8</td>\n",
       "      <td>22897.3</td>\n",
       "      <td>27.993801</td>\n",
       "      <td>0.348389</td>\n",
       "    </tr>\n",
       "    <tr>\n",
       "      <th>1</th>\n",
       "      <td>13</td>\n",
       "      <td>9</td>\n",
       "      <td>9</td>\n",
       "      <td>22314.3</td>\n",
       "      <td>39.804022</td>\n",
       "      <td>0.321777</td>\n",
       "    </tr>\n",
       "    <tr>\n",
       "      <th>2</th>\n",
       "      <td>45</td>\n",
       "      <td>12</td>\n",
       "      <td>8</td>\n",
       "      <td>21886.3</td>\n",
       "      <td>31.714632</td>\n",
       "      <td>0.579102</td>\n",
       "    </tr>\n",
       "    <tr>\n",
       "      <th>3</th>\n",
       "      <td>5</td>\n",
       "      <td>7</td>\n",
       "      <td>6</td>\n",
       "      <td>23376.1</td>\n",
       "      <td>22.232804</td>\n",
       "      <td>0.000000</td>\n",
       "    </tr>\n",
       "    <tr>\n",
       "      <th>4</th>\n",
       "      <td>28</td>\n",
       "      <td>14</td>\n",
       "      <td>5</td>\n",
       "      <td>22423.2</td>\n",
       "      <td>43.936937</td>\n",
       "      <td>0.546387</td>\n",
       "    </tr>\n",
       "  </tbody>\n",
       "</table>\n",
       "</div>"
      ],
      "text/plain": [
       "   MaxItr  NP  CN     Mean        RSD  Response\n",
       "0      29   5   8  22897.3  27.993801  0.348389\n",
       "1      13   9   9  22314.3  39.804022  0.321777\n",
       "2      45  12   8  21886.3  31.714632  0.579102\n",
       "3       5   7   6  23376.1  22.232804  0.000000\n",
       "4      28  14   5  22423.2  43.936937  0.546387"
      ]
     },
     "execution_count": 10,
     "metadata": {},
     "output_type": "execute_result"
    }
   ],
   "source": [
    "ScaledSmaples.head()\n",
    "ScaledSmaples['Response'] = np.float16((normalizeCriterion('MaxItr') + normalizeCriterion('RSD'))/2)\n",
    "ScaledSmaples.head()"
   ]
  },
  {
   "cell_type": "code",
   "execution_count": 133,
   "metadata": {},
   "outputs": [],
   "source": [
    "ScaledSmaples.to_excel('ScaledSmaples0.xlsx')"
   ]
  },
  {
   "cell_type": "code",
   "execution_count": 15,
   "metadata": {},
   "outputs": [],
   "source": [
    "import seaborn as sns\n",
    "import matplotlib.pyplot as plt"
   ]
  },
  {
   "cell_type": "code",
   "execution_count": 16,
   "metadata": {},
   "outputs": [
    {
     "data": {
      "text/plain": [
       "<Axes: >"
      ]
     },
     "execution_count": 16,
     "metadata": {},
     "output_type": "execute_result"
    },
    {
     "data": {
      "image/png": "[encoded data removed]",
      "text/plain": [
       "<Figure size 800x600 with 2 Axes>"
      ]
     },
     "metadata": {},
     "output_type": "display_data"
    }
   ],
   "source": [
    "CorrelationMatrix = ScaledSmaples.drop(columns=['Mean', 'RSD']).corr()\n",
    "plt.figure(figsize=(8, 6))\n",
    "sns.heatmap(CorrelationMatrix, annot=True, cmap=\"coolwarm\", fmt=\".2f\", cbar=True)"
   ]
  },
  {
   "cell_type": "code",
   "execution_count": null,
   "metadata": {},
   "outputs": [],
   "source": [
    "import pandas as pd\n",
    "import numpy as np \n",
    "import matplotlib.pyplot as plt \n",
    "import seaborn as sns"
   ]
  },
  {
   "cell_type": "code",
   "execution_count": 127,
   "metadata": {},
   "outputs": [],
   "source": [
    "DOEResults = pd.read_excel('ScaledSmaples.xlsx').iloc[:,1:]"
   ]
  },
  {
   "cell_type": "code",
   "execution_count": 128,
   "metadata": {},
   "outputs": [
    {
     "name": "stdout",
     "output_type": "stream",
     "text": [
      "   MaxItr  NP  CN     Mean        RSD  Time\n",
      "5      26   8   6  22280.4  48.779024  1248\n",
      "    MaxItr  NP  CN     Mean       RSD   Time\n",
      "12      62  16  14  21439.9  51.17742  13888\n",
      "   MaxItr  NP  CN     Mean        RSD  Time\n",
      "0      32  29   8  22133.8  33.070617  7424\n"
     ]
    }
   ],
   "source": [
    "DOEResults.head()\n",
    "print(DOEResults[DOEResults['Time'] == DOEResults['Time'].min()])\n",
    "print(DOEResults[DOEResults['Mean'] == DOEResults['Mean'].min()])\n",
    "print(DOEResults[DOEResults['RSD'] == DOEResults['RSD'].min()])"
   ]
  },
  {
   "cell_type": "code",
   "execution_count": null,
   "metadata": {},
   "outputs": [],
   "source": [
    "DOEResults.head()\n"
   ]
  },
  {
   "cell_type": "code",
   "execution_count": 129,
   "metadata": {},
   "outputs": [],
   "source": [
    "def normalizeCriterion(Criterion):\n",
    "    return (DOEResults[Criterion] - DOEResults[Criterion].min())/(DOEResults[Criterion].max() - DOEResults[Criterion].min())"
   ]
  },
  {
   "cell_type": "code",
   "execution_count": 130,
   "metadata": {},
   "outputs": [],
   "source": [
    "DOEResults['Rsponse'] = (normalizeCriterion('Mean') + normalizeCriterion('RSD') + normalizeCriterion('Time'))/3"
   ]
  },
  {
   "cell_type": "code",
   "execution_count": 131,
   "metadata": {},
   "outputs": [
    {
     "data": {
      "text/html": [
       "<div>\n",
       "<style scoped>\n",
       "    .dataframe tbody tr th:only-of-type {\n",
       "        vertical-align: middle;\n",
       "    }\n",
       "\n",
       "    .dataframe tbody tr th {\n",
       "        vertical-align: top;\n",
       "    }\n",
       "\n",
       "    .dataframe thead th {\n",
       "        text-align: right;\n",
       "    }\n",
       "</style>\n",
       "<table border=\"1\" class=\"dataframe\">\n",
       "  <thead>\n",
       "    <tr style=\"text-align: right;\">\n",
       "      <th></th>\n",
       "      <th>MaxItr</th>\n",
       "      <th>NP</th>\n",
       "      <th>CN</th>\n",
       "      <th>Mean</th>\n",
       "      <th>RSD</th>\n",
       "      <th>Time</th>\n",
       "      <th>Rsponse</th>\n",
       "    </tr>\n",
       "  </thead>\n",
       "  <tbody>\n",
       "    <tr>\n",
       "      <th>0</th>\n",
       "      <td>32</td>\n",
       "      <td>29</td>\n",
       "      <td>8</td>\n",
       "      <td>22133.8</td>\n",
       "      <td>33.070617</td>\n",
       "      <td>7424</td>\n",
       "      <td>0.355761</td>\n",
       "    </tr>\n",
       "    <tr>\n",
       "      <th>1</th>\n",
       "      <td>38</td>\n",
       "      <td>6</td>\n",
       "      <td>12</td>\n",
       "      <td>22144.9</td>\n",
       "      <td>37.465785</td>\n",
       "      <td>2736</td>\n",
       "      <td>0.334134</td>\n",
       "    </tr>\n",
       "    <tr>\n",
       "      <th>2</th>\n",
       "      <td>43</td>\n",
       "      <td>15</td>\n",
       "      <td>8</td>\n",
       "      <td>21513.3</td>\n",
       "      <td>50.123400</td>\n",
       "      <td>5160</td>\n",
       "      <td>0.216431</td>\n",
       "    </tr>\n",
       "    <tr>\n",
       "      <th>3</th>\n",
       "      <td>78</td>\n",
       "      <td>17</td>\n",
       "      <td>15</td>\n",
       "      <td>21765.1</td>\n",
       "      <td>49.535795</td>\n",
       "      <td>19890</td>\n",
       "      <td>0.503754</td>\n",
       "    </tr>\n",
       "    <tr>\n",
       "      <th>4</th>\n",
       "      <td>47</td>\n",
       "      <td>21</td>\n",
       "      <td>5</td>\n",
       "      <td>21966.6</td>\n",
       "      <td>48.694337</td>\n",
       "      <td>4935</td>\n",
       "      <td>0.381849</td>\n",
       "    </tr>\n",
       "  </tbody>\n",
       "</table>\n",
       "</div>"
      ],
      "text/plain": [
       "   MaxItr  NP  CN     Mean        RSD   Time   Rsponse\n",
       "0      32  29   8  22133.8  33.070617   7424  0.355761\n",
       "1      38   6  12  22144.9  37.465785   2736  0.334134\n",
       "2      43  15   8  21513.3  50.123400   5160  0.216431\n",
       "3      78  17  15  21765.1  49.535795  19890  0.503754\n",
       "4      47  21   5  21966.6  48.694337   4935  0.381849"
      ]
     },
     "execution_count": 131,
     "metadata": {},
     "output_type": "execute_result"
    }
   ],
   "source": [
    "DOEResults.head()"
   ]
  },
  {
   "cell_type": "code",
   "execution_count": 126,
   "metadata": {},
   "outputs": [
    {
     "data": {
      "text/html": [
       "<div>\n",
       "<style scoped>\n",
       "    .dataframe tbody tr th:only-of-type {\n",
       "        vertical-align: middle;\n",
       "    }\n",
       "\n",
       "    .dataframe tbody tr th {\n",
       "        vertical-align: top;\n",
       "    }\n",
       "\n",
       "    .dataframe thead th {\n",
       "        text-align: right;\n",
       "    }\n",
       "</style>\n",
       "<table border=\"1\" class=\"dataframe\">\n",
       "  <thead>\n",
       "    <tr style=\"text-align: right;\">\n",
       "      <th></th>\n",
       "      <th>MaxItr</th>\n",
       "      <th>NP</th>\n",
       "      <th>CN</th>\n",
       "      <th>Rsponse</th>\n",
       "    </tr>\n",
       "  </thead>\n",
       "  <tbody>\n",
       "    <tr>\n",
       "      <th>MaxItr</th>\n",
       "      <td>1.000000</td>\n",
       "      <td>0.218970</td>\n",
       "      <td>0.238660</td>\n",
       "      <td>0.238595</td>\n",
       "    </tr>\n",
       "    <tr>\n",
       "      <th>NP</th>\n",
       "      <td>0.218970</td>\n",
       "      <td>1.000000</td>\n",
       "      <td>-0.364809</td>\n",
       "      <td>0.051693</td>\n",
       "    </tr>\n",
       "    <tr>\n",
       "      <th>CN</th>\n",
       "      <td>0.238660</td>\n",
       "      <td>-0.364809</td>\n",
       "      <td>1.000000</td>\n",
       "      <td>0.213856</td>\n",
       "    </tr>\n",
       "    <tr>\n",
       "      <th>Rsponse</th>\n",
       "      <td>0.238595</td>\n",
       "      <td>0.051693</td>\n",
       "      <td>0.213856</td>\n",
       "      <td>1.000000</td>\n",
       "    </tr>\n",
       "  </tbody>\n",
       "</table>\n",
       "</div>"
      ],
      "text/plain": [
       "           MaxItr        NP        CN   Rsponse\n",
       "MaxItr   1.000000  0.218970  0.238660  0.238595\n",
       "NP       0.218970  1.000000 -0.364809  0.051693\n",
       "CN       0.238660 -0.364809  1.000000  0.213856\n",
       "Rsponse  0.238595  0.051693  0.213856  1.000000"
      ]
     },
     "execution_count": 126,
     "metadata": {},
     "output_type": "execute_result"
    }
   ],
   "source": [
    "DOEResults.drop(columns =['Mean', 'RSD', 'Time']).corr()"
   ]
  },
  {
   "cell_type": "code",
   "execution_count": 89,
   "metadata": {},
   "outputs": [
    {
     "data": {
      "text/html": [
       "<div>\n",
       "<style scoped>\n",
       "    .dataframe tbody tr th:only-of-type {\n",
       "        vertical-align: middle;\n",
       "    }\n",
       "\n",
       "    .dataframe tbody tr th {\n",
       "        vertical-align: top;\n",
       "    }\n",
       "\n",
       "    .dataframe thead th {\n",
       "        text-align: right;\n",
       "    }\n",
       "</style>\n",
       "<table border=\"1\" class=\"dataframe\">\n",
       "  <thead>\n",
       "    <tr style=\"text-align: right;\">\n",
       "      <th></th>\n",
       "      <th>MaxItr</th>\n",
       "      <th>NP</th>\n",
       "      <th>CN</th>\n",
       "      <th>Mean</th>\n",
       "      <th>RSD</th>\n",
       "      <th>Time</th>\n",
       "      <th>Rsponse</th>\n",
       "    </tr>\n",
       "  </thead>\n",
       "  <tbody>\n",
       "    <tr>\n",
       "      <th>MaxItr</th>\n",
       "      <td>1.000000</td>\n",
       "      <td>0.218970</td>\n",
       "      <td>0.238660</td>\n",
       "      <td>-0.569474</td>\n",
       "      <td>0.162220</td>\n",
       "      <td>0.730143</td>\n",
       "      <td>0.238595</td>\n",
       "    </tr>\n",
       "    <tr>\n",
       "      <th>NP</th>\n",
       "      <td>0.218970</td>\n",
       "      <td>1.000000</td>\n",
       "      <td>-0.364809</td>\n",
       "      <td>-0.184655</td>\n",
       "      <td>-0.235862</td>\n",
       "      <td>0.503320</td>\n",
       "      <td>0.051693</td>\n",
       "    </tr>\n",
       "    <tr>\n",
       "      <th>CN</th>\n",
       "      <td>0.238660</td>\n",
       "      <td>-0.364809</td>\n",
       "      <td>1.000000</td>\n",
       "      <td>-0.412973</td>\n",
       "      <td>0.283979</td>\n",
       "      <td>0.405411</td>\n",
       "      <td>0.213856</td>\n",
       "    </tr>\n",
       "    <tr>\n",
       "      <th>Mean</th>\n",
       "      <td>-0.569474</td>\n",
       "      <td>-0.184655</td>\n",
       "      <td>-0.412973</td>\n",
       "      <td>1.000000</td>\n",
       "      <td>-0.407455</td>\n",
       "      <td>-0.610676</td>\n",
       "      <td>0.060286</td>\n",
       "    </tr>\n",
       "    <tr>\n",
       "      <th>RSD</th>\n",
       "      <td>0.162220</td>\n",
       "      <td>-0.235862</td>\n",
       "      <td>0.283979</td>\n",
       "      <td>-0.407455</td>\n",
       "      <td>1.000000</td>\n",
       "      <td>0.145429</td>\n",
       "      <td>0.635651</td>\n",
       "    </tr>\n",
       "    <tr>\n",
       "      <th>Time</th>\n",
       "      <td>0.730143</td>\n",
       "      <td>0.503320</td>\n",
       "      <td>0.405411</td>\n",
       "      <td>-0.610676</td>\n",
       "      <td>0.145429</td>\n",
       "      <td>1.000000</td>\n",
       "      <td>0.420760</td>\n",
       "    </tr>\n",
       "    <tr>\n",
       "      <th>Rsponse</th>\n",
       "      <td>0.238595</td>\n",
       "      <td>0.051693</td>\n",
       "      <td>0.213856</td>\n",
       "      <td>0.060286</td>\n",
       "      <td>0.635651</td>\n",
       "      <td>0.420760</td>\n",
       "      <td>1.000000</td>\n",
       "    </tr>\n",
       "  </tbody>\n",
       "</table>\n",
       "</div>"
      ],
      "text/plain": [
       "           MaxItr        NP        CN      Mean       RSD      Time   Rsponse\n",
       "MaxItr   1.000000  0.218970  0.238660 -0.569474  0.162220  0.730143  0.238595\n",
       "NP       0.218970  1.000000 -0.364809 -0.184655 -0.235862  0.503320  0.051693\n",
       "CN       0.238660 -0.364809  1.000000 -0.412973  0.283979  0.405411  0.213856\n",
       "Mean    -0.569474 -0.184655 -0.412973  1.000000 -0.407455 -0.610676  0.060286\n",
       "RSD      0.162220 -0.235862  0.283979 -0.407455  1.000000  0.145429  0.635651\n",
       "Time     0.730143  0.503320  0.405411 -0.610676  0.145429  1.000000  0.420760\n",
       "Rsponse  0.238595  0.051693  0.213856  0.060286  0.635651  0.420760  1.000000"
      ]
     },
     "execution_count": 89,
     "metadata": {},
     "output_type": "execute_result"
    }
   ],
   "source": [
    "DOEResults.corr()"
   ]
  },
  {
   "cell_type": "code",
   "execution_count": 90,
   "metadata": {},
   "outputs": [
    {
     "data": {
      "text/plain": [
       "<AxesSubplot:>"
      ]
     },
     "execution_count": 90,
     "metadata": {},
     "output_type": "execute_result"
    },
    {
     "data": {
      "image/png": "[encoded data removed]",
      "text/plain": [
       "<Figure size 576x432 with 2 Axes>"
      ]
     },
     "metadata": {
      "needs_background": "light"
     },
     "output_type": "display_data"
    }
   ],
   "source": [
    "correlation_matrix = DOEResults.drop(columns =['Mean', 'RSD', 'Time']).corr()\n",
    "plt.figure(figsize=(8, 6))\n",
    "sns.heatmap(correlation_matrix, annot=True, cmap=\"coolwarm\", fmt=\".2f\", cbar=True)"
   ]
  },
  {
   "cell_type": "code",
   "execution_count": 93,
   "metadata": {},
   "outputs": [
    {
     "data": {
      "text/html": [
       "<div>\n",
       "<style scoped>\n",
       "    .dataframe tbody tr th:only-of-type {\n",
       "        vertical-align: middle;\n",
       "    }\n",
       "\n",
       "    .dataframe tbody tr th {\n",
       "        vertical-align: top;\n",
       "    }\n",
       "\n",
       "    .dataframe thead th {\n",
       "        text-align: right;\n",
       "    }\n",
       "</style>\n",
       "<table border=\"1\" class=\"dataframe\">\n",
       "  <thead>\n",
       "    <tr style=\"text-align: right;\">\n",
       "      <th></th>\n",
       "      <th>MaxItr</th>\n",
       "      <th>NP</th>\n",
       "      <th>CN</th>\n",
       "      <th>Rsponse</th>\n",
       "    </tr>\n",
       "  </thead>\n",
       "  <tbody>\n",
       "    <tr>\n",
       "      <th>MaxItr</th>\n",
       "      <td>1.000000</td>\n",
       "      <td>0.218970</td>\n",
       "      <td>0.238660</td>\n",
       "      <td>0.238595</td>\n",
       "    </tr>\n",
       "    <tr>\n",
       "      <th>NP</th>\n",
       "      <td>0.218970</td>\n",
       "      <td>1.000000</td>\n",
       "      <td>-0.364809</td>\n",
       "      <td>0.051693</td>\n",
       "    </tr>\n",
       "    <tr>\n",
       "      <th>CN</th>\n",
       "      <td>0.238660</td>\n",
       "      <td>-0.364809</td>\n",
       "      <td>1.000000</td>\n",
       "      <td>0.213856</td>\n",
       "    </tr>\n",
       "    <tr>\n",
       "      <th>Rsponse</th>\n",
       "      <td>0.238595</td>\n",
       "      <td>0.051693</td>\n",
       "      <td>0.213856</td>\n",
       "      <td>1.000000</td>\n",
       "    </tr>\n",
       "  </tbody>\n",
       "</table>\n",
       "</div>"
      ],
      "text/plain": [
       "           MaxItr        NP        CN   Rsponse\n",
       "MaxItr   1.000000  0.218970  0.238660  0.238595\n",
       "NP       0.218970  1.000000 -0.364809  0.051693\n",
       "CN       0.238660 -0.364809  1.000000  0.213856\n",
       "Rsponse  0.238595  0.051693  0.213856  1.000000"
      ]
     },
     "execution_count": 93,
     "metadata": {},
     "output_type": "execute_result"
    }
   ],
   "source": [
    "correlation_matrix"
   ]
  },
  {
   "cell_type": "code",
   "execution_count": null,
   "metadata": {},
   "outputs": [],
   "source": [
    "plt.figure(figsize = (10, 8))\n",
    "plt.subplot(2, 2, 1)\n",
    "df = DOEResults.sort_values(by = 'MaxItr')\n",
    "plt.plot(df['MaxItr'], df['Rsponse'], 'o')\n",
    "plt.title('MaxItr Factor')\n",
    "plt.subplot(2, 2, 2)\n",
    "df = DOEResults.sort_values(by = 'NP')\n",
    "plt.plot(df['NP'], df['Rsponse'], 'o')\n",
    "plt.title('NP Factor')\n",
    "plt.subplot(2, 2, 3)\n",
    "df = DOEResults.sort_values(by = 'CN')\n",
    "plt.plot(df['CN'], df['Rsponse'], 'o')\n",
    "plt.title('CN Factor')"
   ]
  },
  {
   "cell_type": "code",
   "execution_count": null,
   "metadata": {},
   "outputs": [],
   "source": [
    "df = DOEResults.sort_values(by = 'NP')\n",
    "plt.plot(df['NP'], df['Rsponse'], 'o')"
   ]
  }
 ],
 "metadata": {
  "kernelspec": {
   "display_name": "Python 3",
   "language": "python",
   "name": "python3"
  },
  "language_info": {
   "codemirror_mode": {
    "name": "ipython",
    "version": 3
   },
   "file_extension": ".py",
   "mimetype": "text/x-python",
   "name": "python",
   "nbconvert_exporter": "python",
   "pygments_lexer": "ipython3",
   "version": "3.12.1"
  }
 },
 "nbformat": 4,
 "nbformat_minor": 2
}
