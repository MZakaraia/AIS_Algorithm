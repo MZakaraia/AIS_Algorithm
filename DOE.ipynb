{
 "cells": [
  {
   "cell_type": "code",
   "execution_count": null,
   "metadata": {},
   "outputs": [],
   "source": [
    "import oapackage\n",
    "import numpy as np\n",
    "import pandas as pd\n",
    "from AIS_for_SLDCP import *"
   ]
  },
  {
   "cell_type": "code",
   "execution_count": 38,
   "metadata": {},
   "outputs": [],
   "source": [
    "DOETrails = pd.read_excel('DOE2.xlsx')"
   ]
  },
  {
   "cell_type": "code",
   "execution_count": null,
   "metadata": {},
   "outputs": [],
   "source": [
    "DOETrails.A.unique()"
   ]
  },
  {
   "cell_type": "code",
   "execution_count": 39,
   "metadata": {},
   "outputs": [],
   "source": [
    "DOETrails.columns = ['MaxItr', 'NP', 'CN']\n",
    "MaxItr = [10, 20, 30, 40]\n",
    "NP = [10, 15, 20, 25]\n",
    "CN = [10, 15, 20, 25]\n",
    "DOETrails.MaxItr = [MaxItr[DOETrails.MaxItr[i]-1] for i in range(DOETrails.shape[0])]\n",
    "DOETrails.NP = [NP[DOETrails.NP[i]-1] for i in range(DOETrails.shape[0])]\n",
    "DOETrails.CN = [CN[DOETrails.CN[i]-1] for i in range(DOETrails.shape[0])]"
   ]
  },
  {
   "cell_type": "code",
   "execution_count": 40,
   "metadata": {},
   "outputs": [],
   "source": [
    "fn = lambda MaxItr, NP, CN: AISforFLDCP(MaxItr, CN, NP, ProblemName='ProblemStochastic 10X20_1')[0]"
   ]
  },
  {
   "cell_type": "code",
   "execution_count": 41,
   "metadata": {},
   "outputs": [
    {
     "name": "stdout",
     "output_type": "stream",
     "text": [
      "0 10 25 25\n",
      "1 30 15 25\n",
      "2 30 15 25\n",
      "3 10 20 20\n",
      "4 10 25 25\n",
      "5 40 20 15\n",
      "6 20 15 10\n",
      "7 40 15 20\n",
      "8 30 20 10\n",
      "9 30 10 20\n",
      "10 40 15 20\n",
      "11 30 10 20\n",
      "12 30 10 20\n",
      "13 40 15 20\n",
      "14 10 15 15\n",
      "15 10 15 15\n",
      "16 40 15 20\n",
      "17 20 20 25\n",
      "18 40 10 25\n",
      "19 30 15 25\n",
      "20 30 25 15\n",
      "21 10 25 25\n",
      "22 20 25 20\n",
      "23 10 15 15\n",
      "24 10 15 15\n",
      "25 30 25 15\n",
      "26 20 20 25\n",
      "27 40 25 10\n",
      "28 20 20 25\n",
      "29 20 20 25\n",
      "30 20 25 20\n",
      "31 30 15 25\n",
      "32 30 25 15\n",
      "33 20 25 20\n",
      "34 30 15 25\n",
      "35 30 25 15\n",
      "36 40 10 25\n",
      "37 10 20 20\n",
      "38 40 15 20\n",
      "39 40 20 15\n",
      "40 40 20 15\n",
      "41 20 15 10\n",
      "42 10 25 25\n",
      "43 40 10 25\n",
      "44 30 15 25\n",
      "45 30 10 20\n",
      "46 30 20 10\n",
      "47 10 20 20\n",
      "48 40 25 10\n",
      "49 10 10 10\n",
      "50 10 15 15\n",
      "51 40 25 10\n",
      "52 10 10 10\n",
      "53 10 15 15\n",
      "54 10 20 20\n",
      "55 20 15 10\n",
      "56 40 10 25\n",
      "57 10 10 10\n",
      "58 40 10 25\n",
      "59 30 25 15\n",
      "60 30 10 20\n",
      "61 40 20 15\n",
      "62 30 15 25\n",
      "63 20 25 20\n",
      "64 10 20 20\n",
      "65 40 10 25\n",
      "66 10 20 20\n",
      "67 30 20 10\n",
      "68 30 25 15\n",
      "69 30 15 25\n",
      "70 30 10 20\n",
      "71 10 15 15\n",
      "72 40 20 15\n",
      "73 20 25 20\n",
      "74 40 20 15\n",
      "75 30 25 15\n",
      "76 40 15 20\n",
      "77 30 20 10\n",
      "78 20 10 15\n",
      "79 20 10 15\n",
      "80 30 15 25\n",
      "81 40 25 10\n",
      "82 20 15 10\n",
      "83 30 20 10\n",
      "84 40 15 20\n",
      "85 40 25 10\n",
      "86 30 20 10\n",
      "87 40 20 15\n",
      "88 20 20 25\n",
      "89 40 25 10\n",
      "90 20 25 20\n",
      "91 30 25 15\n",
      "92 40 15 20\n",
      "93 20 25 20\n",
      "94 40 20 15\n",
      "95 30 25 15\n",
      "96 40 25 10\n",
      "97 30 20 10\n",
      "98 40 20 15\n",
      "99 20 20 25\n",
      "100 20 20 25\n",
      "101 20 25 20\n",
      "102 40 20 15\n",
      "103 40 15 20\n",
      "104 10 20 20\n",
      "105 20 25 20\n",
      "106 10 25 25\n",
      "107 20 25 20\n",
      "108 40 10 25\n",
      "109 20 25 20\n",
      "110 20 10 15\n",
      "111 30 10 20\n",
      "112 30 20 10\n",
      "113 10 20 20\n",
      "114 20 10 15\n",
      "115 10 10 10\n",
      "116 10 20 20\n",
      "117 10 10 10\n",
      "118 20 20 25\n",
      "119 30 15 25\n",
      "120 40 25 10\n",
      "121 20 25 20\n",
      "122 40 20 15\n",
      "123 40 25 10\n",
      "124 30 10 20\n",
      "125 20 15 10\n",
      "126 40 20 15\n",
      "127 10 20 20\n",
      "128 40 15 20\n",
      "129 10 20 20\n",
      "130 10 15 15\n",
      "131 30 15 25\n",
      "132 10 15 15\n",
      "133 10 10 10\n",
      "134 30 20 10\n",
      "135 20 10 15\n",
      "136 10 10 10\n",
      "137 20 25 20\n",
      "138 20 20 25\n",
      "139 20 10 15\n",
      "140 30 25 15\n",
      "141 30 15 25\n",
      "142 30 15 25\n",
      "143 10 25 25\n",
      "144 20 15 10\n",
      "145 10 15 15\n",
      "146 30 10 20\n",
      "147 20 20 25\n",
      "148 30 10 20\n",
      "149 10 25 25\n",
      "150 40 25 10\n",
      "151 10 10 10\n",
      "152 10 10 10\n",
      "153 20 15 10\n",
      "154 10 25 25\n",
      "155 40 15 20\n",
      "156 20 15 10\n",
      "157 10 25 25\n",
      "158 40 20 15\n",
      "159 40 25 10\n",
      "160 10 25 25\n",
      "161 30 25 15\n",
      "162 10 25 25\n",
      "163 30 15 25\n",
      "164 30 15 25\n",
      "165 40 10 25\n",
      "166 20 10 15\n",
      "167 30 15 25\n",
      "168 40 20 15\n",
      "169 40 15 20\n",
      "170 10 10 10\n",
      "171 10 15 15\n",
      "172 20 15 10\n",
      "173 30 10 20\n",
      "174 30 25 15\n",
      "175 30 20 10\n",
      "176 20 10 15\n",
      "177 20 25 20\n",
      "178 20 15 10\n",
      "179 40 10 25\n",
      "180 40 15 20\n",
      "181 40 25 10\n",
      "182 10 20 20\n",
      "183 10 10 10\n",
      "184 30 25 15\n",
      "185 30 15 25\n",
      "186 20 20 25\n",
      "187 20 10 15\n",
      "188 40 25 10\n",
      "189 10 10 10\n",
      "190 10 15 15\n",
      "191 20 10 15\n",
      "192 30 10 20\n",
      "193 40 20 15\n",
      "194 20 20 25\n",
      "195 30 10 20\n",
      "196 30 20 10\n",
      "197 20 10 15\n",
      "198 30 25 15\n",
      "199 30 20 10\n",
      "200 20 10 15\n",
      "201 10 15 15\n",
      "202 20 10 15\n",
      "203 10 25 25\n",
      "204 40 20 15\n",
      "205 10 20 20\n",
      "206 10 15 15\n",
      "207 10 25 25\n",
      "208 40 25 10\n",
      "209 10 25 25\n",
      "210 20 15 10\n",
      "211 40 20 15\n",
      "212 40 20 15\n",
      "213 10 20 20\n",
      "214 30 25 15\n",
      "215 40 15 20\n",
      "216 10 25 25\n",
      "217 30 20 10\n",
      "218 20 20 25\n",
      "219 20 20 25\n",
      "220 20 15 10\n",
      "221 10 10 10\n",
      "222 30 15 25\n",
      "223 30 10 20\n",
      "224 10 15 15\n",
      "225 30 20 10\n",
      "226 40 15 20\n",
      "227 10 20 20\n",
      "228 10 25 25\n",
      "229 10 25 25\n",
      "230 30 10 20\n",
      "231 30 15 25\n",
      "232 40 25 10\n",
      "233 20 25 20\n",
      "234 20 25 20\n",
      "235 20 20 25\n",
      "236 10 15 15\n",
      "237 30 25 15\n",
      "238 20 25 20\n",
      "239 30 25 15\n",
      "240 20 10 15\n",
      "241 20 10 15\n",
      "242 20 25 20\n",
      "243 20 25 20\n",
      "244 10 10 10\n",
      "245 10 25 25\n",
      "246 20 25 20\n",
      "247 20 15 10\n",
      "248 40 10 25\n",
      "249 20 10 15\n",
      "250 30 15 25\n",
      "251 40 10 25\n",
      "252 10 20 20\n",
      "253 40 20 15\n",
      "254 40 20 15\n",
      "255 30 15 25\n",
      "256 40 25 10\n",
      "257 30 10 20\n",
      "258 20 15 10\n",
      "259 40 20 15\n",
      "260 30 10 20\n",
      "261 10 10 10\n",
      "262 10 20 20\n",
      "263 30 20 10\n",
      "264 40 25 10\n",
      "265 40 10 25\n",
      "266 10 15 15\n",
      "267 20 25 20\n",
      "268 40 15 20\n",
      "269 10 25 25\n",
      "270 30 20 10\n",
      "271 10 20 20\n",
      "272 10 25 25\n",
      "273 10 25 25\n",
      "274 30 20 10\n",
      "275 10 20 20\n",
      "276 40 25 10\n",
      "277 20 15 10\n",
      "278 30 20 10\n",
      "279 10 25 25\n",
      "280 20 20 25\n",
      "281 30 20 10\n",
      "282 10 20 20\n",
      "283 10 15 15\n",
      "284 40 10 25\n",
      "285 40 25 10\n",
      "286 10 10 10\n",
      "287 20 25 20\n",
      "288 30 10 20\n",
      "289 40 10 25\n",
      "290 40 10 25\n",
      "291 10 25 25\n",
      "292 20 15 10\n",
      "293 10 15 15\n",
      "294 10 20 20\n",
      "295 40 20 15\n",
      "296 10 10 10\n",
      "297 20 10 15\n",
      "298 30 15 25\n",
      "299 20 10 15\n",
      "300 20 25 20\n",
      "301 40 15 20\n",
      "302 20 25 20\n",
      "303 40 10 25\n",
      "304 40 15 20\n",
      "305 20 20 25\n",
      "306 30 15 25\n",
      "307 20 15 10\n",
      "308 10 15 15\n",
      "309 30 15 25\n",
      "310 10 15 15\n",
      "311 30 25 15\n",
      "312 30 25 15\n",
      "313 20 15 10\n",
      "314 30 15 25\n",
      "315 20 15 10\n",
      "316 10 20 20\n",
      "317 30 10 20\n",
      "318 20 10 15\n",
      "319 40 15 20\n",
      "320 10 20 20\n",
      "321 20 15 10\n",
      "322 10 25 25\n",
      "323 30 25 15\n",
      "324 20 15 10\n",
      "325 20 10 15\n",
      "326 30 10 20\n",
      "327 40 10 25\n",
      "328 20 15 10\n",
      "329 40 15 20\n",
      "330 20 10 15\n",
      "331 10 10 10\n",
      "332 40 15 20\n",
      "333 40 10 25\n",
      "334 40 25 10\n",
      "335 30 15 25\n",
      "336 30 10 20\n",
      "337 10 10 10\n",
      "338 20 20 25\n",
      "339 10 15 15\n",
      "340 40 20 15\n",
      "341 10 25 25\n",
      "342 40 10 25\n",
      "343 20 15 10\n",
      "344 10 20 20\n",
      "345 20 25 20\n",
      "346 10 20 20\n",
      "347 30 25 15\n",
      "348 10 15 15\n",
      "349 30 25 15\n",
      "350 30 25 15\n",
      "351 30 20 10\n",
      "352 30 10 20\n",
      "353 40 10 25\n",
      "354 10 10 10\n",
      "355 10 15 15\n",
      "356 20 20 25\n",
      "357 10 25 25\n",
      "358 40 15 20\n",
      "359 20 20 25\n",
      "360 30 20 10\n",
      "361 40 15 20\n",
      "362 30 15 25\n",
      "363 40 25 10\n",
      "364 20 10 15\n",
      "365 40 25 10\n",
      "366 10 15 15\n",
      "367 40 20 15\n",
      "368 10 10 10\n",
      "369 40 15 20\n",
      "370 30 10 20\n",
      "371 40 10 25\n",
      "372 40 25 10\n",
      "373 30 20 10\n",
      "374 40 20 15\n",
      "375 40 25 10\n",
      "376 20 10 15\n",
      "377 20 20 25\n",
      "378 40 25 10\n",
      "379 10 10 10\n",
      "380 40 10 25\n",
      "381 10 10 10\n",
      "382 30 25 15\n",
      "383 10 15 15\n",
      "384 20 25 20\n",
      "385 40 10 25\n",
      "386 30 25 15\n",
      "387 20 15 10\n",
      "388 40 15 20\n",
      "389 40 15 20\n",
      "390 30 20 10\n",
      "391 20 15 10\n",
      "392 10 10 10\n",
      "393 40 10 25\n",
      "394 10 15 15\n",
      "395 40 15 20\n",
      "396 30 10 20\n",
      "397 40 10 25\n",
      "398 30 10 20\n",
      "399 10 10 10\n",
      "400 10 20 20\n",
      "401 20 20 25\n",
      "402 20 10 15\n",
      "403 40 10 25\n",
      "404 10 10 10\n",
      "405 30 20 10\n",
      "406 10 25 25\n",
      "407 30 15 25\n",
      "408 20 20 25\n",
      "409 10 25 25\n",
      "410 30 20 10\n",
      "411 30 20 10\n",
      "412 30 20 10\n",
      "413 10 15 15\n",
      "414 30 10 20\n",
      "415 40 15 20\n",
      "416 20 10 15\n",
      "417 40 20 15\n",
      "418 40 10 25\n",
      "419 40 10 25\n",
      "420 40 25 10\n",
      "421 10 20 20\n",
      "422 20 10 15\n",
      "423 40 15 20\n",
      "424 20 15 10\n",
      "425 40 20 15\n",
      "426 10 10 10\n",
      "427 30 20 10\n",
      "428 10 15 15\n",
      "429 20 15 10\n",
      "430 30 20 10\n",
      "431 40 10 25\n",
      "432 40 25 10\n",
      "433 20 10 15\n",
      "434 40 25 10\n",
      "435 10 10 10\n",
      "436 20 20 25\n",
      "437 20 10 15\n",
      "438 30 10 20\n",
      "439 20 15 10\n",
      "440 30 25 15\n",
      "441 10 15 15\n",
      "442 30 25 15\n",
      "443 10 25 25\n",
      "444 20 20 25\n",
      "445 40 25 10\n",
      "446 20 15 10\n",
      "447 30 25 15\n",
      "448 30 15 25\n",
      "449 20 15 10\n",
      "450 30 10 20\n",
      "451 40 20 15\n",
      "452 10 20 20\n",
      "453 40 20 15\n",
      "454 40 15 20\n",
      "455 20 20 25\n",
      "456 40 10 25\n",
      "457 30 10 20\n",
      "458 30 10 20\n",
      "459 20 20 25\n",
      "460 30 15 25\n",
      "461 10 20 20\n",
      "462 20 25 20\n",
      "463 20 25 20\n",
      "464 20 20 25\n",
      "465 10 20 20\n",
      "466 20 25 20\n",
      "467 30 25 15\n",
      "468 30 20 10\n",
      "469 20 25 20\n",
      "470 20 10 15\n",
      "471 40 20 15\n",
      "472 10 25 25\n",
      "473 20 10 15\n",
      "474 30 25 15\n",
      "475 20 20 25\n",
      "476 10 10 10\n",
      "477 40 25 10\n",
      "478 10 10 10\n",
      "479 20 20 25\n"
     ]
    }
   ],
   "source": [
    "DOETrails['Response'] = None\n",
    "for i in DOETrails.index:\n",
    "   MaxItr, NP, CN, x = DOETrails.loc[i]   \n",
    "   DOETrails.loc[i, 'Response'] = fn(MaxItr, NP, CN)\n",
    "   print(i, MaxItr, NP, CN)"
   ]
  },
  {
   "cell_type": "code",
   "execution_count": 42,
   "metadata": {},
   "outputs": [],
   "source": [
    "DOETrails.to_excel('DOEOutputs.xlsx', index=False)"
   ]
  },
  {
   "cell_type": "code",
   "execution_count": 50,
   "metadata": {},
   "outputs": [],
   "source": [
    "import matplotlib.pyplot as plt"
   ]
  },
  {
   "cell_type": "code",
   "execution_count": 57,
   "metadata": {},
   "outputs": [
    {
     "data": {
      "text/plain": [
       "Int64Index([10, 20, 30, 40], dtype='int64', name='MaxItr')"
      ]
     },
     "execution_count": 57,
     "metadata": {},
     "output_type": "execute_result"
    }
   ],
   "source": [
    "DOETrails.groupby(DOETrails.columns[0]).agg({'Response':snRatio}).index"
   ]
  },
  {
   "cell_type": "code",
   "execution_count": 65,
   "metadata": {},
   "outputs": [
    {
     "data": {
      "text/plain": [
       "Index(['10', '20', '30', '40'], dtype='object', name='MaxItr')"
      ]
     },
     "execution_count": 65,
     "metadata": {},
     "output_type": "execute_result"
    }
   ],
   "source": [
    "DOETrails.groupby(DOETrails.columns[0]).agg({'Response':snRatio}).index.astype('str')"
   ]
  },
  {
   "cell_type": "code",
   "execution_count": 82,
   "metadata": {},
   "outputs": [
    {
     "data": {
      "text/plain": [
       "Text(0, 0.5, 'SN Ratio')"
      ]
     },
     "execution_count": 82,
     "metadata": {},
     "output_type": "execute_result"
    },
    {
     "data": {
      "image/png": "[encoded data removed]",
      "text/plain": [
       "<Figure size 1080x216 with 3 Axes>"
      ]
     },
     "metadata": {
      "needs_background": "light"
     },
     "output_type": "display_data"
    }
   ],
   "source": [
    "plt.figure(figsize=(15, 3))\n",
    "plt.subplot(1, 3, 1)\n",
    "plt.plot(DOETrails.groupby(DOETrails.columns[0]).agg({'Response':snRatio}).index.astype('str'), \\\n",
    "    DOETrails.groupby(DOETrails.columns[0]).agg({'Response':snRatio}), '-o')\n",
    "plt.xlabel('MaxItr')\n",
    "plt.ylabel('SN Ratio')\n",
    "\n",
    "plt.subplot(1, 3, 2)\n",
    "plt.plot(DOETrails.groupby(DOETrails.columns[1]).agg({'Response':snRatio}).index.astype('str'), \\\n",
    "    DOETrails.groupby(DOETrails.columns[1]).agg({'Response':snRatio}), '-o')\n",
    "plt.xlabel('CN')\n",
    "plt.ylabel('SN Ratio')\n",
    "\n",
    "plt.subplot(1, 3, 3)\n",
    "plt.plot(DOETrails.groupby(DOETrails.columns[2]).agg({'Response':snRatio}).index.astype('str'), \\\n",
    "    DOETrails.groupby(DOETrails.columns[2]).agg({'Response':snRatio}), '-o')\n",
    "plt.xlabel('NP')\n",
    "plt.ylabel('SN Ratio')"
   ]
  },
  {
   "cell_type": "code",
   "execution_count": null,
   "metadata": {},
   "outputs": [],
   "source": [
    "import numpy as np"
   ]
  },
  {
   "cell_type": "code",
   "execution_count": null,
   "metadata": {},
   "outputs": [],
   "source": [
    "snRatio = lambda x:10 * np.log(np.mean(x)**2/np.std(x)**2)"
   ]
  },
  {
   "cell_type": "code",
   "execution_count": null,
   "metadata": {},
   "outputs": [],
   "source": [
    "DOETrails.MaxItr.unique()"
   ]
  },
  {
   "cell_type": "code",
   "execution_count": null,
   "metadata": {},
   "outputs": [],
   "source": [
    "DOETrails.groupby('MaxItr').agg({'Response':(np.mean, np.std, snRatio)})"
   ]
  },
  {
   "cell_type": "code",
   "execution_count": null,
   "metadata": {},
   "outputs": [],
   "source": [
    "X = (4 * np.random.rand(20, 3)).astype(int)\n",
    "array = np.array(oapackage.array_link(X))\n",
    "DOETrails = pd.DataFrame(array)\n",
    "DOETrails.columns = ['MaxItr', 'NP', 'CN']\n",
    "MaxItr = [30, 50, 70, 90]\n",
    "NP = [15, 25, 35, 45]\n",
    "CN = [10, 20, 40, 60]\n",
    "DOETrails.MaxItr = [MaxItr[DOETrails.MaxItr[i]] for i in range(DOETrails.shape[0])]\n",
    "DOETrails.NP = [NP[DOETrails.NP[i]] for i in range(DOETrails.shape[0])]\n",
    "DOETrails.CN = [CN[DOETrails.CN[i]] for i in range(DOETrails.shape[0])]"
   ]
  },
  {
   "cell_type": "code",
   "execution_count": null,
   "metadata": {},
   "outputs": [],
   "source": [
    "DOETrails.shape"
   ]
  },
  {
   "cell_type": "code",
   "execution_count": null,
   "metadata": {},
   "outputs": [],
   "source": [
    "fn = lambda MaxItr, NP, CN: AISforFLDCP(MaxItr, CN, NP, ProblemName='ProblemStochastic 10X20_1')[0]"
   ]
  },
  {
   "cell_type": "code",
   "execution_count": null,
   "metadata": {},
   "outputs": [],
   "source": [
    "SNFn = lambda mean, std: 10 * np.log(mean **2 / std ** 2)\n",
    "DOETrails['Response'] = None\n",
    "for i in DOETrails.index:\n",
    "   MaxItr, NP, CN, x = DOETrails.loc[i]\n",
    "   Results = np.array([fn(MaxItr, NP, CN) for _ in range(30)])\n",
    "   DOETrails.loc[i, 'Response'] = SNFn(Results.mean(), Results.std())\n",
    "   \n",
    "\n",
    "\n",
    "\n"
   ]
  },
  {
   "cell_type": "code",
   "execution_count": 1,
   "metadata": {},
   "outputs": [],
   "source": [
    "from AIS_for_SLDCP import *"
   ]
  },
  {
   "cell_type": "code",
   "execution_count": 2,
   "metadata": {},
   "outputs": [],
   "source": [
    "import pandas as pd"
   ]
  },
  {
   "cell_type": "code",
   "execution_count": 3,
   "metadata": {},
   "outputs": [],
   "source": [
    "import HeuristicApproach_Stochastic as he"
   ]
  },
  {
   "cell_type": "code",
   "execution_count": 7,
   "metadata": {},
   "outputs": [],
   "source": [
    "NumberOfProblems, MinTransCost, MaxTransCost, MinFixedCost, MaxFixedCost\\\n",
    "                     , NumberOFDistCenter, NumberOfPlants, MinDemand,  MaxDemand = \\\n",
    "                     3, 30, 100, 20, 90, 15, 10, 80, 120\n",
    "he.GenerateProblems(NumberOfProblems, MinTransCost, MaxTransCost, MinFixedCost, MaxFixedCost\\\n",
    "                     , NumberOFDistCenter, NumberOfPlants, MinDemand,  MaxDemand)"
   ]
  },
  {
   "cell_type": "code",
   "execution_count": 4,
   "metadata": {},
   "outputs": [],
   "source": [
    "import os\n",
    "allFiles = os.listdir()\n",
    "Problems = [i[:-5] for i in allFiles if i.endswith('.xlsx') and i.startswith('Prob')]"
   ]
  },
  {
   "cell_type": "code",
   "execution_count": 8,
   "metadata": {},
   "outputs": [],
   "source": [
    "Problems = pd.Series(Problems).sort_values()"
   ]
  },
  {
   "cell_type": "code",
   "execution_count": 12,
   "metadata": {},
   "outputs": [],
   "source": [
    "Problems = Problems.to_list()"
   ]
  },
  {
   "cell_type": "code",
   "execution_count": 15,
   "metadata": {},
   "outputs": [
    {
     "name": "stdout",
     "output_type": "stream",
     "text": [
      "ProblemStochastic 10X10_01\n",
      "ProblemStochastic 10X10_02\n",
      "ProblemStochastic 10X10_03\n",
      "ProblemStochastic 15X10_01\n",
      "ProblemStochastic 15X10_02\n",
      "ProblemStochastic 15X10_03\n",
      "ProblemStochastic 5X10_01\n",
      "ProblemStochastic 5X10_02\n",
      "ProblemStochastic 5X10_03\n",
      "ProblemStochastic 5X5_01\n",
      "ProblemStochastic 5X5_02\n",
      "ProblemStochastic 5X5_03\n"
     ]
    }
   ],
   "source": [
    "ChanceProbability = 0.6\n",
    "df = pd.DataFrame(columns=['Problem', 'Mean', 'RSD'])\n",
    "cnt = 0\n",
    "for i in Problems:\n",
    "    results = np.array([AISforFLDCP(30, 15, 15, i, ChanceProbability)[0] for _ in range(10)])\n",
    "    resultsMean = results.mean()\n",
    "    resultRSD = results.std()/resultsMean\n",
    "    df1 = pd.Series({'Problem':i, 'Mean':resultsMean, 'RSD':resultRSD})\n",
    "    df.loc[cnt] = df1\n",
    "    cnt += 1\n",
    "    print(i)\n",
    "    \n",
    "df.to_excel('Computational_0.6.xlsx', index = False)\n",
    "# AISforFLDCP(30, 25, 25, Problems[0], ChanceProbability)"
   ]
  },
  {
   "cell_type": "code",
   "execution_count": 16,
   "metadata": {},
   "outputs": [
    {
     "name": "stdout",
     "output_type": "stream",
     "text": [
      "ProblemStochastic 10X10_01\n",
      "ProblemStochastic 10X10_02\n",
      "ProblemStochastic 10X10_03\n",
      "ProblemStochastic 15X10_01\n",
      "ProblemStochastic 15X10_02\n",
      "ProblemStochastic 15X10_03\n",
      "ProblemStochastic 5X10_01\n",
      "ProblemStochastic 5X10_02\n",
      "ProblemStochastic 5X10_03\n",
      "ProblemStochastic 5X5_01\n",
      "ProblemStochastic 5X5_02\n",
      "ProblemStochastic 5X5_03\n"
     ]
    }
   ],
   "source": [
    "ChanceProbability = 0.8\n",
    "df = pd.DataFrame(columns=['Problem', 'Mean', 'RSD'])\n",
    "cnt = 0\n",
    "for i in Problems:\n",
    "    results = np.array([AISforFLDCP(30, 15, 15, i, ChanceProbability)[0] for _ in range(10)])\n",
    "    resultsMean = results.mean()\n",
    "    resultRSD = results.std()/resultsMean\n",
    "    df1 = pd.Series({'Problem':i, 'Mean':resultsMean, 'RSD':resultRSD})\n",
    "    df.loc[cnt] = df1\n",
    "    cnt += 1\n",
    "    print(i)\n",
    "\n",
    "df.to_excel('Computational_0.8.xlsx', index = False)"
   ]
  },
  {
   "cell_type": "code",
   "execution_count": 17,
   "metadata": {},
   "outputs": [
    {
     "name": "stdout",
     "output_type": "stream",
     "text": [
      "ProblemStochastic 10X10_01\n",
      "ProblemStochastic 10X10_02\n",
      "ProblemStochastic 10X10_03\n",
      "ProblemStochastic 15X10_01\n",
      "ProblemStochastic 15X10_02\n",
      "ProblemStochastic 15X10_03\n",
      "ProblemStochastic 5X10_01\n",
      "ProblemStochastic 5X10_02\n",
      "ProblemStochastic 5X10_03\n",
      "ProblemStochastic 5X5_01\n",
      "ProblemStochastic 5X5_02\n",
      "ProblemStochastic 5X5_03\n"
     ]
    }
   ],
   "source": [
    "ChanceProbability = 0.9\n",
    "df = pd.DataFrame(columns=['Problem', 'Mean', 'RSD'])\n",
    "cnt = 0\n",
    "for i in Problems:\n",
    "    results = np.array([AISforFLDCP(30, 15, 15, i, ChanceProbability)[0] for _ in range(10)])\n",
    "    resultsMean = results.mean()\n",
    "    resultRSD = results.std()/resultsMean\n",
    "    df1 = pd.Series({'Problem':i, 'Mean':resultsMean, 'RSD':resultRSD})\n",
    "    df.loc[cnt] = df1\n",
    "    cnt += 1\n",
    "    print(i)\n",
    "\n",
    "df.to_excel('Computational_0.9.xlsx', index = False)"
   ]
  },
  {
   "cell_type": "code",
   "execution_count": 37,
   "metadata": {},
   "outputs": [
    {
     "data": {
      "text/plain": [
       "'ProblemStochastic 10X10_01'"
      ]
     },
     "execution_count": 37,
     "metadata": {},
     "output_type": "execute_result"
    }
   ],
   "source": [
    "df['Problem'][0][:df['Problem'][0].find('_')+1]+ f\"{int(df['Problem'][0][df['Problem'][0].find('_')+1:]):02}\"\n",
    "# df['Problem'][0][df['Problem'][0].find('_')+1:] \n",
    "\n"
   ]
  },
  {
   "cell_type": "code",
   "execution_count": 47,
   "metadata": {},
   "outputs": [],
   "source": [
    "df['Problem']=[i[:i.find('_')+1]+f\"{int(i[i.find('_')+1:]):02}\" for i in df['Problem']]"
   ]
  },
  {
   "cell_type": "code",
   "execution_count": 19,
   "metadata": {},
   "outputs": [
    {
     "data": {
      "text/plain": [
       "Problem    ProblemStochastic 10X10_01\n",
       "Mean                         127928.0\n",
       "RSD                          0.019153\n",
       "dtype: object"
      ]
     },
     "execution_count": 19,
     "metadata": {},
     "output_type": "execute_result"
    }
   ],
   "source": [
    "df1"
   ]
  },
  {
   "cell_type": "code",
   "execution_count": 54,
   "metadata": {},
   "outputs": [
    {
     "name": "stdout",
     "output_type": "stream",
     "text": [
      "ProblemStochastic 10X10_01\n",
      "ProblemStochastic 10X10_02\n",
      "ProblemStochastic 10X10_03\n",
      "ProblemStochastic 10X10_04\n",
      "ProblemStochastic 10X10_05\n",
      "ProblemStochastic 10X10_06\n",
      "ProblemStochastic 10X10_07\n",
      "ProblemStochastic 10X10_08\n",
      "ProblemStochastic 10X10_09\n",
      "ProblemStochastic 10X10_10\n",
      "ProblemStochastic 10X15_01\n",
      "ProblemStochastic 10X15_02\n",
      "ProblemStochastic 10X15_03\n",
      "ProblemStochastic 10X15_04\n",
      "ProblemStochastic 10X15_05\n",
      "ProblemStochastic 10X15_06\n",
      "ProblemStochastic 10X15_07\n",
      "ProblemStochastic 10X15_08\n",
      "ProblemStochastic 10X15_09\n",
      "ProblemStochastic 10X15_10\n",
      "ProblemStochastic 10X20_01\n",
      "ProblemStochastic 10X20_02\n",
      "ProblemStochastic 10X20_03\n",
      "ProblemStochastic 10X20_04\n",
      "ProblemStochastic 10X20_05\n",
      "ProblemStochastic 10X20_06\n",
      "ProblemStochastic 10X20_07\n",
      "ProblemStochastic 10X20_08\n",
      "ProblemStochastic 10X20_09\n",
      "ProblemStochastic 10X20_10\n",
      "ProblemStochastic 5X10_01\n",
      "ProblemStochastic 5X10_02\n",
      "ProblemStochastic 5X10_03\n",
      "ProblemStochastic 5X10_04\n",
      "ProblemStochastic 5X10_05\n",
      "ProblemStochastic 5X10_06\n",
      "ProblemStochastic 5X10_07\n",
      "ProblemStochastic 5X10_08\n",
      "ProblemStochastic 5X10_09\n",
      "ProblemStochastic 5X10_10\n"
     ]
    }
   ],
   "source": [
    "Newdf = pd.DataFrame(columns=['Problem', 'Mean', 'RSD'])\n",
    "for i , j in df.sort_values(by='Problem').groupby('Problem'):\n",
    "    print(i)\n"
   ]
  }
 ],
 "metadata": {
  "kernelspec": {
   "display_name": "Python 3",
   "language": "python",
   "name": "python3"
  },
  "language_info": {
   "codemirror_mode": {
    "name": "ipython",
    "version": 3
   },
   "file_extension": ".py",
   "mimetype": "text/x-python",
   "name": "python",
   "nbconvert_exporter": "python",
   "pygments_lexer": "ipython3",
   "version": "3.12.1"
  }
 },
 "nbformat": 4,
 "nbformat_minor": 2
}
