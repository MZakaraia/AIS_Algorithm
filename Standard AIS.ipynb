{
 "cells": [
  {
   "cell_type": "code",
   "execution_count": 322,
   "metadata": {},
   "outputs": [],
   "source": [
    "import numpy as np\n",
    "\n",
    "def AIS(MaxItr=50, cloneNum=10, popSize=10, dim = 10, LB = -10, UB = 10, Function= None):\n",
    "    # Generate initial population\n",
    "    population = np.random.uniform(LB, UB, (popSize, dim))\n",
    "    evaluations = np.array([Function(ind) for ind in population])\n",
    "    \n",
    "    # Elitism: Track best solution\n",
    "    best_eval = np.min(evaluations)\n",
    "    best_sol = np.copy(population[np.argmin(evaluations)])\n",
    "    convergenceCurve = np.array([best_eval])\n",
    "    numOfRemoved = int(np.floor(1 * popSize))\n",
    "    # Main AIS loop\n",
    "    for itr in range(MaxItr):\n",
    "        # Clone and mature each solution\n",
    "        alpha = itr / MaxItr\n",
    "        for i, individual in enumerate(population):\n",
    "            cloned_ind = np.copy(individual)\n",
    "            for j in range(cloneNum):\n",
    "                \n",
    "                # alpha = np.random.uniform()\n",
    "                # Generate mutated clones\n",
    "                \n",
    "                # np.sqrt((best_sol - individual)**2)\n",
    "                # cloned_ind +=  alpha * (best_sol - individual)\n",
    "                cloned_ind =  cloned_ind + alpha * (best_sol - population[i])\n",
    "                # dist = np.sqrt((cloned_ind - cloned_ind1)**2).sum()\n",
    "\n",
    "                cloned_eval = fn(cloned_ind)\n",
    "                # Update if clone is better\n",
    "                if cloned_eval <= evaluations[i]:\n",
    "                    population[i] = cloned_ind\n",
    "                    evaluations[i] = cloned_eval\n",
    "                \n",
    "                # Update global best\n",
    "                if cloned_eval <= best_eval:\n",
    "                    best_eval = cloned_eval\n",
    "                    best_sol = np.copy(cloned_ind)\n",
    "        convergenceCurve = np.append(convergenceCurve, best_eval) \n",
    "                                       \n",
    "\n",
    "        # Replace weakest solutions to maintain diversity\n",
    "        # population = population[np.argsort(evaluations)][:-numOfRemoved]\n",
    "        # cnt = population.shape[0]\n",
    "        # for k in range(numOfRemoved):\n",
    "        #     newSol = np.random.uniform(LB, UB, dim)\n",
    "        #     newSolEval = fn(newSol)\n",
    "        #     population = np.vstack([population,newSol])\n",
    "        #     evaluations[cnt] = fn(population[-1])\n",
    "        #     cnt += 1\n",
    "        population = np.random.uniform(LB, UB, (popSize, dim))\n",
    "        evaluations = np.array([Function(ind) for ind in population])\n",
    "\n",
    "\n",
    "\n",
    "    return best_eval, best_sol, convergenceCurve\n"
   ]
  },
  {
   "cell_type": "code",
   "execution_count": null,
   "metadata": {},
   "outputs": [],
   "source": [
    "from testFunctions import *\n",
    "import matplotlib.pyplot as plt\n"
   ]
  },
  {
   "cell_type": "code",
   "execution_count": 306,
   "metadata": {},
   "outputs": [],
   "source": [
    "fn = lambda x:rastrigin(x)"
   ]
  },
  {
   "cell_type": "code",
   "execution_count": 262,
   "metadata": {},
   "outputs": [],
   "source": [
    "fn = lambda x:(x**2).sum()"
   ]
  },
  {
   "cell_type": "code",
   "execution_count": 323,
   "metadata": {},
   "outputs": [
    {
     "name": "stdout",
     "output_type": "stream",
     "text": [
      "1697.3851132323957\n"
     ]
    },
    {
     "data": {
      "text/plain": [
       "[<matplotlib.lines.Line2D at 0x1b3e552b490>]"
      ]
     },
     "execution_count": 323,
     "metadata": {},
     "output_type": "execute_result"
    },
    {
     "data": {
      "image/png": "[encoded data removed]",
      "text/plain": [
       "<Figure size 432x288 with 1 Axes>"
      ]
     },
     "metadata": {
      "needs_background": "light"
     },
     "output_type": "display_data"
    }
   ],
   "source": [
    "\n",
    "sol = AIS(MaxItr=50, cloneNum=100, popSize=100, dim=100, LB=-100, UB=100, Function=fn)\n",
    "print(sol[0])\n",
    "plt.plot(sol[2])"
   ]
  },
  {
   "cell_type": "code",
   "execution_count": 305,
   "metadata": {},
   "outputs": [
    {
     "data": {
      "text/plain": [
       "<function __main__.<lambda>(x)>"
      ]
     },
     "execution_count": 305,
     "metadata": {},
     "output_type": "execute_result"
    }
   ],
   "source": [
    "fn"
   ]
  },
  {
   "cell_type": "code",
   "execution_count": 67,
   "metadata": {},
   "outputs": [],
   "source": [
    "x = np.random.uniform(-5, 5, (3, 5))"
   ]
  },
  {
   "cell_type": "code",
   "execution_count": 123,
   "metadata": {},
   "outputs": [],
   "source": [
    "fn = lambda x: (x**2).sum()"
   ]
  },
  {
   "cell_type": "code",
   "execution_count": 25,
   "metadata": {},
   "outputs": [],
   "source": [
    "from testFunctions import *"
   ]
  },
  {
   "cell_type": "code",
   "execution_count": 170,
   "metadata": {},
   "outputs": [],
   "source": [
    "fn = lambda x:rastrigin(x)\n",
    "# fn = lambda x: (x**2).sum()"
   ]
  },
  {
   "cell_type": "code",
   "execution_count": 104,
   "metadata": {},
   "outputs": [
    {
     "data": {
      "text/plain": [
       "4.440892098500626e-16"
      ]
     },
     "execution_count": 104,
     "metadata": {},
     "output_type": "execute_result"
    }
   ],
   "source": [
    "fn(np.zeros(100))"
   ]
  },
  {
   "cell_type": "code",
   "execution_count": 166,
   "metadata": {},
   "outputs": [],
   "source": [
    "import matplotlib.pyplot as plt"
   ]
  },
  {
   "cell_type": "code",
   "execution_count": 192,
   "metadata": {},
   "outputs": [
    {
     "name": "stdout",
     "output_type": "stream",
     "text": [
      "1706.2370362199797\n"
     ]
    },
    {
     "data": {
      "text/plain": [
       "[<matplotlib.lines.Line2D at 0x1b3dc415580>]"
      ]
     },
     "execution_count": 192,
     "metadata": {},
     "output_type": "execute_result"
    },
    {
     "data": {
      "image/png": "[encoded data removed]",
      "text/plain": [
       "<Figure size 432x288 with 1 Axes>"
      ]
     },
     "metadata": {
      "needs_background": "light"
     },
     "output_type": "display_data"
    }
   ],
   "source": [
    "sol = AIS(MaxItr=50, cloneNum=50, popSize=50, dim=100, LB=-100, UB=100, Function=fn)\n",
    "print(sol[0])\n",
    "plt.plot(sol[2])"
   ]
  },
  {
   "cell_type": "code",
   "execution_count": 176,
   "metadata": {},
   "outputs": [
    {
     "data": {
      "text/plain": [
       "1536.3887449415342"
      ]
     },
     "execution_count": 176,
     "metadata": {},
     "output_type": "execute_result"
    }
   ],
   "source": [
    "AIS(MaxItr=100, cloneNum=10, popSize=50, dim=100, LB=-100, UB=100, Function=fn)[0]"
   ]
  }
 ],
 "metadata": {
  "kernelspec": {
   "display_name": "Python 3",
   "language": "python",
   "name": "python3"
  },
  "language_info": {
   "codemirror_mode": {
    "name": "ipython",
    "version": 3
   },
   "file_extension": ".py",
   "mimetype": "text/x-python",
   "name": "python",
   "nbconvert_exporter": "python",
   "pygments_lexer": "ipython3",
   "version": "3.9.6"
  }
 },
 "nbformat": 4,
 "nbformat_minor": 2
}
